{
 "cells": [
  {
   "cell_type": "markdown",
   "metadata": {
    "pycharm": {
     "name": "#%% md\n"
    }
   },
   "source": [
    "# Theorie der Atommassen nach William Prout\n",
    "\n",
    "## Ausgangslage anno 1815\n",
    "Fast jede Atommasse ist ein ganzzahliges Vielfaches der Atommasse von Wasserstoff.\n",
    "\n",
    "## Problem\n",
    "*Fast* jede Atommasse… Für Chlor beispielsweise beträgt der Wert $35.83$.\n",
    "\n",
    "## Theorie von William Prout\n",
    "Wasserstoff ist der elementare Grundbaustein für alle anderen Elemente.\n",
    "Deswegen muss jede andere Atommasse ein Vielfaches der des Wasserstoffes sein.\n",
    "\n",
    "- Hypothese $t$: Jede Atommasse ist ein Vielfaches der Atommasse von Wasserstoff.\n",
    "- (Grund-)Annahmen $a$: Messgenauigkeit, Reinheitsgrade der Chemikalien\n",
    "- Evidenz $e$: Die gemessene Atommasse von Chlor beträgt $35.83$.\n",
    "\n",
    "$$P(t|e)=\\frac{P(e|t)\\cdot P(t)}{P(e)},~P(a|e)=\\frac{P(e|a)\\cdot P(a)}{P(e)}$$\n",
    "\n",
    "## Berechnung der *Apriori*-W'keiten\n",
    "\n",
    "Nach Satz der totalen W'keit gilt: $$P(e)=P(e|t)\\cdot P(t)+P(e|t^c)P(t^c)$$\n",
    "und analog $$P(e|t)=P(e|t\\cap a)\\cdot P(a|t)+P(e|t\\cap a^c)\\cdot P(a^c|t)$$\n",
    "\n",
    "Wir nehmen vereinfachend an, dass $t$ und $a$ unabhängig sind, also $P(a|t)=P(a)$. Daraus folgt: $$P(e|t)=P(e|t\\cap a)\\cdot P(a)+P(e|t\\cap a^c)\\cdot P(a^c)$$\n",
    "Schließlich kann $e$ nicht eintreten, falls die Theorie $t$ sowie unsere Annahmen über die Welt $a$ wahr sind: $P(e|t\\cap a)=0$. Damit gilt schließlich: $$P(e|t)=P(e|t\\cap a^c)\\cdot P(a^c)$$\n",
    "\n",
    "Analog gilt $$P(e|t^c)=P(e|t^c\\cap a)\\cdot P(a)+P(e|t^c\\cap a^c)\\cdot P(a^c)$$\n",
    "\n",
    "Schließlich fixieren wir die verbleibenden W'keiten wie folgt:\n",
    "- $P(e|t^c\\cap a)=0.01$. Falls die Annahmen stimmen, Prouts Hypothese aber nicht, ist die Evidenz gleichverteilt von $35.00$ bis $36.00$\n",
    "- $P(e|t^c\\cap a^c)=0.01$. Selbst falls die Messung ungenau oder die Chemikalien unrein sind, ist die Verteilung dadurch nicht weniger zufällig\n",
    "- $P(e|t\\cap a^c)=0.02$. Falls die Hypothese stimmt, die Messungen aber ungenau oder die Chemikalien unrein sind, würde die Atommasse um ganze Zahlen schwanken, aber nicht vollkommen zufällig verteilt sein"
   ]
  },
  {
   "cell_type": "code",
   "execution_count": 1,
   "metadata": {},
   "outputs": [],
   "source": [
    "e_given_t_and_not_a = 0.02\n",
    "\n",
    "e_given_not_t_and_a = 0.01\n",
    "e_given_not_t_and_not_a = 0.01\n",
    "\n",
    "def p_e_given_t(a):\n",
    "    return e_given_t_and_not_a*(1-a)\n",
    "\n",
    "def p_e_given_not_t(a):\n",
    "    return e_given_not_t_and_a*a+e_given_not_t_and_not_a*(1-a)\n",
    "\n",
    "def p_e(t, a):\n",
    "    e_given_t=p_e_given_t(a)\n",
    "    e_given_not_t=p_e_given_not_t(a)\n",
    "\n",
    "    return e_given_t*t+e_given_not_t*(1-t)\n",
    "\n",
    "def p_t_given_e(t, a):\n",
    "    e_given_t = p_e_given_t(a)\n",
    "    e = p_e(t, a)\n",
    "\n",
    "    return (e_given_t*t)/e"
   ]
  },
  {
   "cell_type": "markdown",
   "metadata": {
    "pycharm": {
     "name": "#%% md\n"
    }
   },
   "source": [
    "Wir müssen nun möglichst sinnvolle Annahmen für $P(t)$ und $P(a)$ fixieren.\n",
    "\n",
    "Der Glaube in die Hypothese von Prout war zu Beginn des 19. Jahrhunderts recht stark. Viele andere Wissenschaftler unterstützten seine These, in England wurde sie vielerorts sogar als \"richtig\" gehandelt.\n",
    "Daher setzen wir $$P(t)=0.9$$ als Startwert. Diese Wahl impliziert gleichzeitig, dass der Glaube in die Messgenauigkeit und Reinheit der Chemikalien nicht sehr hoch war.\n",
    "Trotzdem musste aber ein gewisses Maß an Vertrauen vorhanden sein, in dem Sinne dass die Messungen besser als ein 50/50 Ratespiel sein sollten.\n",
    "Wir wählen daher $$P(a)=0.6$$ als Startwert."
   ]
  },
  {
   "cell_type": "code",
   "execution_count": 2,
   "metadata": {
    "pycharm": {
     "name": "#%%\n"
    }
   },
   "outputs": [
    {
     "data": {
      "application/vnd.jupyter.widget-view+json": {
       "model_id": "43c0219548954858b4f1d2c78fba5b30",
       "version_major": 2,
       "version_minor": 0
      },
      "text/plain": [
       "interactive(children=(FloatSlider(value=0.9, description='t', max=1.0, step=0.05), FloatSlider(value=0.6, desc…"
      ]
     },
     "metadata": {},
     "output_type": "display_data"
    },
    {
     "data": {
      "application/vnd.jupyter.widget-view+json": {
       "model_id": "3b6daf21c0714e88b95df4f700ac842a",
       "version_major": 2,
       "version_minor": 0
      },
      "text/plain": [
       "Text(value='0.8780487804878049')"
      ]
     },
     "metadata": {},
     "output_type": "display_data"
    }
   ],
   "source": [
    "from ipywidgets import widgets, interact\n",
    "\n",
    "output_text_t = widgets.Text()\n",
    "\n",
    "@interact(t=(0.0,1.0,0.05), a=(0.0,1.0,0.05))\n",
    "def interactive_t_given_e(t=0.9, a=0.6):\n",
    "    t_given_e = p_t_given_e(t, a)\n",
    "    output_text_t.value = str(t_given_e)\n",
    "\n",
    "output_text_t"
   ]
  },
  {
   "cell_type": "code",
   "execution_count": 3,
   "metadata": {
    "pycharm": {
     "name": "#%%\n"
    }
   },
   "outputs": [
    {
     "data": {
      "application/vnd.jupyter.widget-view+json": {
       "model_id": "493e57679e284dea8f4009d0ef1e8838",
       "version_major": 2,
       "version_minor": 0
      },
      "text/plain": [
       "interactive(children=(FloatSlider(value=0.9, description='t', max=1.0, step=0.05), FloatSlider(value=0.6, desc…"
      ]
     },
     "metadata": {},
     "output_type": "display_data"
    }
   ],
   "source": [
    "import matplotlib.pyplot as plt\n",
    "import numpy as np\n",
    "\n",
    "%matplotlib inline\n",
    "\n",
    "@interact(t=(0.0,1.0,0.05), a=(0.0,1.0,0.05))\n",
    "def plot_both_t(t=0.9, a=0.6):\n",
    "    x=np.linspace(0,1)\n",
    "    plot_a=[p_t_given_e(t, var_a) for var_a in x]\n",
    "    plot_t=[p_t_given_e(var_t, a) for var_t in x]\n",
    "    plt.subplot(1,2,1)\n",
    "    plt.plot(x,plot_a,'b')\n",
    "    plt.ylim(0,1)\n",
    "    plt.xlabel('assumptions a')\n",
    "    plt.ylabel('P(t|e)')\n",
    "    plt.subplot(1,2,2)\n",
    "    plt.plot(x,plot_t,'r')\n",
    "    plt.ylim(0,1)\n",
    "    plt.xlabel('belief t')\n",
    "    plt.ylabel('P(t|e)')\n",
    "    plt.tight_layout()\n",
    "    plt.show()"
   ]
  },
  {
   "cell_type": "markdown",
   "metadata": {
    "pycharm": {
     "name": "#%% md\n"
    }
   },
   "source": [
    "## Berechnung der *Apriori*-W'keiten für $a$\n",
    "\n",
    "Nach Satz von Bayes gilt auch hier $$P(a|e)=\\frac{P(e|a)\\cdot P(a)}{P(e)}$$\n",
    "\n",
    "Außerdem erhalten wir analog zur Rechnung für $P(e|t)$ auch $$P(e|a)=P(e|t^c\\cap a)\\cdot P(t^c)$$\n",
    "Die anderen Werte lassen wir fixiert wie zuvor."
   ]
  },
  {
   "cell_type": "code",
   "execution_count": 4,
   "metadata": {
    "pycharm": {
     "name": "#%%\n"
    }
   },
   "outputs": [],
   "source": [
    "def p_e_given_a(t):\n",
    "    return e_given_not_t_and_a*(1-t)\n",
    "\n",
    "def p_a_given_e(t, a):\n",
    "    e_given_a = p_e_given_a(t)\n",
    "    e = p_e(t, a)\n",
    "\n",
    "    return (e_given_a*a)/e"
   ]
  },
  {
   "cell_type": "code",
   "execution_count": 5,
   "metadata": {
    "pycharm": {
     "name": "#%%\n"
    }
   },
   "outputs": [
    {
     "data": {
      "application/vnd.jupyter.widget-view+json": {
       "model_id": "fbffd0039b7749fba8932cd2768fdaad",
       "version_major": 2,
       "version_minor": 0
      },
      "text/plain": [
       "interactive(children=(FloatSlider(value=0.9, description='t', max=1.0, step=0.05), FloatSlider(value=0.6, desc…"
      ]
     },
     "metadata": {},
     "output_type": "display_data"
    },
    {
     "data": {
      "application/vnd.jupyter.widget-view+json": {
       "model_id": "381b58cfe8aa4d12bcd86e65fcbfd2f0",
       "version_major": 2,
       "version_minor": 0
      },
      "text/plain": [
       "Text(value='0.07317073170731704')"
      ]
     },
     "metadata": {},
     "output_type": "display_data"
    }
   ],
   "source": [
    "from ipywidgets import widgets, interact\n",
    "\n",
    "output_text_a = widgets.Text()\n",
    "\n",
    "@interact(t=(0.0,1.0,0.05), a=(0.0,1.0,0.05))\n",
    "def interactive_a_given_e(t=0.9, a=0.6):\n",
    "    a_given_e = p_a_given_e(t, a)\n",
    "    output_text_a.value = str(a_given_e)\n",
    "\n",
    "output_text_a"
   ]
  },
  {
   "cell_type": "code",
   "execution_count": 6,
   "metadata": {
    "pycharm": {
     "name": "#%%\n"
    }
   },
   "outputs": [
    {
     "data": {
      "application/vnd.jupyter.widget-view+json": {
       "model_id": "d7a6a5760c3842dfbbfa98bd90a0b5f6",
       "version_major": 2,
       "version_minor": 0
      },
      "text/plain": [
       "interactive(children=(FloatSlider(value=0.9, description='t', max=1.0, step=0.05), FloatSlider(value=0.6, desc…"
      ]
     },
     "metadata": {},
     "output_type": "display_data"
    }
   ],
   "source": [
    "@interact(t=(0.0,1.0,0.05), a=(0.0,1.0,0.05))\n",
    "def plot_both_a(t=0.9, a=0.6):\n",
    "    x=np.linspace(0,1)\n",
    "    plot_a=[p_a_given_e(t, var_a) for var_a in x]\n",
    "    plot_t=[p_a_given_e(var_t, a) for var_t in x]\n",
    "    plt.subplot(1,2,1)\n",
    "    plt.plot(x,plot_a,'b')\n",
    "    plt.ylim(0,1)\n",
    "    plt.xlabel('assumptions a')\n",
    "    plt.ylabel('P(a|e)')\n",
    "    plt.subplot(1,2,2)\n",
    "    plt.plot(x,plot_t,'r')\n",
    "    plt.ylim(0,1)\n",
    "    plt.xlabel('belief t')\n",
    "    plt.ylabel('P(a|e)')\n",
    "    plt.tight_layout()\n",
    "    plt.show()"
   ]
  }
 ],
 "metadata": {
  "kernelspec": {
   "display_name": "Python 3 (ipykernel)",
   "language": "python",
   "name": "python3"
  },
  "language_info": {
   "codemirror_mode": {
    "name": "ipython",
    "version": 3
   },
   "file_extension": ".py",
   "mimetype": "text/x-python",
   "name": "python",
   "nbconvert_exporter": "python",
   "pygments_lexer": "ipython3",
   "version": "3.9.4"
  }
 },
 "nbformat": 4,
 "nbformat_minor": 1
}