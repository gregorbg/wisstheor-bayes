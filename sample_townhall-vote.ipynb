{
 "cells": [
  {
   "cell_type": "code",
   "execution_count": 1,
   "metadata": {},
   "outputs": [],
   "source": [
    "import math\n",
    "\n",
    "def binomPdf(n,p,k):\n",
    "    return math.comb(n,k)*(p**k)*((1-p)**(n-k))\n",
    "\n",
    "def binomCdf(n,p,k):\n",
    "    return sum(binomPdf(n,p,var_k) for var_k in range(0,k+1))\n"
   ]
  },
  {
   "cell_type": "markdown",
   "metadata": {
    "pycharm": {
     "name": "#%% md\n"
    }
   },
   "source": [
    "Einfache Abstimmung: Jede*r wirft eine Münze.\n",
    "Die Versuche sind unabhängige Bernoulli-Experimente zu $p=\\frac{1}{2}$.\n",
    "\n",
    "Für den erfolgreichen Ausgang der Abstimmung gilt: $g=\\lfloor\\frac{n}{2}\\rfloor$\n",
    "\n",
    "$P(X>g)=1-P(X\\leq g)=1-\\sum_{k=0}^g\\binom{n}{k}p^k(1-p)^{n-k}$."
   ]
  },
  {
   "cell_type": "code",
   "execution_count": 2,
   "metadata": {
    "pycharm": {
     "name": "#%%\n"
    }
   },
   "outputs": [
    {
     "data": {
      "application/vnd.jupyter.widget-view+json": {
       "model_id": "51fa81445a5c4502b1a8d36f88c2babc",
       "version_major": 2,
       "version_minor": 0
      },
      "text/plain": [
       "interactive(children=(IntSlider(value=20, description='n', max=30, min=3), Output()), _dom_classes=('widget-in…"
      ]
     },
     "metadata": {},
     "output_type": "display_data"
    },
    {
     "data": {
      "application/vnd.jupyter.widget-view+json": {
       "model_id": "3313bbdd840b4b02a1879a3229fe54d6",
       "version_major": 2,
       "version_minor": 0
      },
      "text/plain": [
       "Text(value='0.41190147399902344')"
      ]
     },
     "metadata": {},
     "output_type": "display_data"
    }
   ],
   "source": [
    "from ipywidgets import widgets, interact\n",
    "\n",
    "output_text_p = widgets.Text()\n",
    "\n",
    "@interact(n=(3,30,1))\n",
    "def interactive_simple_vote(n=20):\n",
    "    g=math.floor(n/2)\n",
    "    p_x_smaller_g = binomCdf(n,.5,g)\n",
    "    p_x_larger_g = 1-p_x_smaller_g\n",
    "    output_text_p.value = str(p_x_larger_g)\n",
    "\n",
    "output_text_p"
   ]
  },
  {
   "cell_type": "markdown",
   "metadata": {
    "pycharm": {
     "name": "#%% md\n"
    }
   },
   "source": [
    "Abstimmung mit bedingten W'keiten: Jede*r bis auf $j$ Personen wirft eine Münze.\n",
    "$j$ Personen sagen definitiv Ja, alle anderen entscheiden auf Grundlage des Münzwurfs.\n",
    "\n",
    "Die Abstimmung ist nun eine bedingte Wahrscheinlichkeit: $P(X>g|X\\geq j)$.\n",
    "Die $j$ fest entschlossenen Personen sind jetzt aus der Zufallsentscheidung ausgenommen, und es gilt:\n",
    "$P(X>g|X\\geq j)=P(X_j>g-j)=1-P(X_j\\leq g-j)$."
   ]
  },
  {
   "cell_type": "code",
   "execution_count": 3,
   "metadata": {
    "pycharm": {
     "name": "#%%\n"
    }
   },
   "outputs": [
    {
     "data": {
      "application/vnd.jupyter.widget-view+json": {
       "model_id": "08e5d2a0a38d4828b501e22941a22238",
       "version_major": 2,
       "version_minor": 0
      },
      "text/plain": [
       "interactive(children=(IntSlider(value=12, description='n', max=30, min=3), IntSlider(value=3, description='j',…"
      ]
     },
     "metadata": {},
     "output_type": "display_data"
    },
    {
     "data": {
      "application/vnd.jupyter.widget-view+json": {
       "model_id": "d5a514657fb44a63bf0c678f7989b05d",
       "version_major": 2,
       "version_minor": 0
      },
      "text/plain": [
       "Text(value='0.927001953125')"
      ]
     },
     "metadata": {},
     "output_type": "display_data"
    }
   ],
   "source": [
    "output_text_p_bias = widgets.Text()\n",
    "\n",
    "@interact(n=(3,30,1),j=(0,30,1))\n",
    "def interactive_biased_vote(n=12,j=3):\n",
    "    g_minus_j=math.floor(n/2)-j\n",
    "    p_xj_smaller_g_minus_j = binomCdf(n,.5,g_minus_j)\n",
    "    p_xj_larger_g_minus_j = 1-p_xj_smaller_g_minus_j\n",
    "    output_text_p_bias.value = str(p_xj_larger_g_minus_j)\n",
    "\n",
    "output_text_p_bias"
   ]
  },
  {
   "cell_type": "code",
   "execution_count": 4,
   "metadata": {
    "pycharm": {
     "name": "#%%\n"
    }
   },
   "outputs": [
    {
     "data": {
      "application/vnd.jupyter.widget-view+json": {
       "model_id": "3642364e66444bc3b9dde8e007b5d491",
       "version_major": 2,
       "version_minor": 0
      },
      "text/plain": [
       "interactive(children=(IntSlider(value=20, description='n', max=30, min=3), Output()), _dom_classes=('widget-in…"
      ]
     },
     "metadata": {},
     "output_type": "display_data"
    }
   ],
   "source": [
    "import matplotlib.pyplot as plt\n",
    "\n",
    "%matplotlib inline\n",
    "\n",
    "@interact(n=(3,30,1))\n",
    "def interactive_plot_biased_vote(n=20):\n",
    "    g=math.floor(n/2)\n",
    "    x=[i for i in range(0,n+1)]\n",
    "    y_p_xj_smaller_g_minus_j = [binomCdf(n,.5,g-j) for j in x]\n",
    "    y_p_xj_larger_g_minus_j = [1-p_xj_smaller_g_minus_j for p_xj_smaller_g_minus_j in y_p_xj_smaller_g_minus_j]\n",
    "    plt.plot(x,y_p_xj_larger_g_minus_j,'b')\n",
    "    plt.ylim(0,1)\n",
    "    plt.xlabel('biased persons j')\n",
    "    plt.ylabel('P(X>g|X>=j)')\n",
    "    plt.show()"
   ]
  }
 ],
 "metadata": {
  "kernelspec": {
   "display_name": "Python 3 (ipykernel)",
   "language": "python",
   "name": "python3"
  },
  "language_info": {
   "codemirror_mode": {
    "name": "ipython",
    "version": 3
   },
   "file_extension": ".py",
   "mimetype": "text/x-python",
   "name": "python",
   "nbconvert_exporter": "python",
   "pygments_lexer": "ipython3",
   "version": "3.9.4"
  }
 },
 "nbformat": 4,
 "nbformat_minor": 1
}